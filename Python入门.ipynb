{
 "cells": [
  {
   "metadata": {},
   "cell_type": "markdown",
   "source": "对于python的运算符，其实作用范围很广",
   "id": "de2846f09042e9db"
  },
  {
   "metadata": {
    "ExecuteTime": {
     "end_time": "2025-03-05T13:37:36.529741Z",
     "start_time": "2025-03-05T13:37:36.524410Z"
    }
   },
   "cell_type": "code",
   "source": [
    "#比如这里的大于等于是一个一个元素进行比较\n",
    "l1 = [1, 7, 3]\n",
    "l2 = [4, 5]\n",
    "l3 = l1 > l2\n",
    "print(l3)"
   ],
   "id": "45f16125e6fdaa55",
   "outputs": [
    {
     "name": "stdout",
     "output_type": "stream",
     "text": [
      "False\n"
     ]
    }
   ],
   "execution_count": 20
  },
  {
   "metadata": {
    "ExecuteTime": {
     "end_time": "2025-03-05T13:37:36.553195Z",
     "start_time": "2025-03-05T13:37:36.548727Z"
    }
   },
   "cell_type": "code",
   "source": [
    "l4 = [8, 9]\n",
    "l4 > l2, l4 > l1\n",
    "#只要是元素比较完了就可以返回一个bool值"
   ],
   "id": "9f7da3736ed5263b",
   "outputs": [
    {
     "data": {
      "text/plain": [
       "(True, True)"
      ]
     },
     "execution_count": 21,
     "metadata": {},
     "output_type": "execute_result"
    }
   ],
   "execution_count": 21
  },
  {
   "metadata": {},
   "cell_type": "markdown",
   "source": "上述的情况适用于列表，对于集合，是判断子集的方式",
   "id": "b1de6c42a194426d"
  },
  {
   "metadata": {
    "ExecuteTime": {
     "end_time": "2025-03-05T13:37:36.578027Z",
     "start_time": "2025-03-05T13:37:36.572824Z"
    }
   },
   "cell_type": "code",
   "source": [
    "s1 = set(\"apple\")\n",
    "s2 = set(\"applesosa\")\n",
    "s3 = set(\"banana\")\n",
    "s2 >= s1 , s2 > s1 , s2 > s3"
   ],
   "id": "d1b6887e06c84022",
   "outputs": [
    {
     "data": {
      "text/plain": [
       "(True, True, False)"
      ]
     },
     "execution_count": 22,
     "metadata": {},
     "output_type": "execute_result"
    }
   ],
   "execution_count": 22
  },
  {
   "metadata": {
    "ExecuteTime": {
     "end_time": "2025-03-05T13:37:36.607562Z",
     "start_time": "2025-03-05T13:37:36.597184Z"
    }
   },
   "cell_type": "code",
   "source": [
    "#还有交集并集和补集\n",
    "s1 | s2 | s3 , s1 & s2 , s2 - s1 , s1 ^ s2"
   ],
   "id": "83796e4d552c9f5f",
   "outputs": [
    {
     "data": {
      "text/plain": [
       "({'a', 'b', 'e', 'l', 'n', 'o', 'p', 's'},\n",
       " {'a', 'e', 'l', 'p'},\n",
       " {'o', 's'},\n",
       " {'o', 's'})"
      ]
     },
     "execution_count": 23,
     "metadata": {},
     "output_type": "execute_result"
    }
   ],
   "execution_count": 23
  },
  {
   "metadata": {},
   "cell_type": "markdown",
   "source": "在列表计算中，运算与我们的普通加减法有微小的不同",
   "id": "3bda3408c6f4f2ac"
  },
  {
   "metadata": {
    "ExecuteTime": {
     "end_time": "2025-03-05T13:37:36.659693Z",
     "start_time": "2025-03-05T13:37:36.652282Z"
    }
   },
   "cell_type": "code",
   "source": [
    "#比如\n",
    "a = 2\n",
    "b = a\n",
    "b += 1\n",
    "a, b\n",
    "#这里发现，我们的a没有随着b的变化而变化"
   ],
   "id": "f17e1efecab55856",
   "outputs": [
    {
     "data": {
      "text/plain": [
       "(2, 3)"
      ]
     },
     "execution_count": 24,
     "metadata": {},
     "output_type": "execute_result"
    }
   ],
   "execution_count": 24
  },
  {
   "metadata": {
    "ExecuteTime": {
     "end_time": "2025-03-05T13:37:36.695499Z",
     "start_time": "2025-03-05T13:37:36.690202Z"
    }
   },
   "cell_type": "code",
   "source": [
    "l1 = [1, 2, 3]\n",
    "l2 = l1\n",
    "l2 += [4, 5]\n",
    "l2 = l2 + [6, 7]\n",
    "l1 , l2\n",
    "#这里你会发现微小的区别"
   ],
   "id": "a93fe783f6aa0104",
   "outputs": [
    {
     "data": {
      "text/plain": [
       "([1, 2, 3, 4, 5], [1, 2, 3, 4, 5, 6, 7])"
      ]
     },
     "execution_count": 25,
     "metadata": {},
     "output_type": "execute_result"
    }
   ],
   "execution_count": 25
  },
  {
   "metadata": {},
   "cell_type": "markdown",
   "source": "在python中一些数字的函数是可以对我们的字符串运算",
   "id": "cd1892608bad3a86"
  },
  {
   "metadata": {
    "ExecuteTime": {
     "end_time": "2025-03-05T13:37:36.739143Z",
     "start_time": "2025-03-05T13:37:36.732963Z"
    }
   },
   "cell_type": "code",
   "source": [
    "a = \"banana\"\n",
    "max(a)"
   ],
   "id": "aa0d0ba2b66e0faf",
   "outputs": [
    {
     "data": {
      "text/plain": [
       "'n'"
      ]
     },
     "execution_count": 26,
     "metadata": {},
     "output_type": "execute_result"
    }
   ],
   "execution_count": 26
  },
  {
   "metadata": {},
   "cell_type": "markdown",
   "source": "迭代器与生成器的使用",
   "id": "580493a70736afee"
  },
  {
   "metadata": {
    "ExecuteTime": {
     "end_time": "2025-03-05T13:37:36.784358Z",
     "start_time": "2025-03-05T13:37:36.779331Z"
    }
   },
   "cell_type": "code",
   "source": [
    "def test( n):\n",
    "    for i in range(n + 1):\n",
    "        if i % 2 == 0:\n",
    "            yield i\n",
    "\n",
    "l = test(200)\n",
    "l = iter(l)\n",
    "next(l), next(l) , next(l)\n",
    "\n",
    "# 我们使用yield可以生成一个生成器，然后可以把他变成一个可迭代的对象，用next进行迭代 ，最常见用在我们的函数多次使用和迭代算发中\n",
    "#迭代算法不仅可以用return， yield 其实是更加的直观"
   ],
   "id": "d87a842dce5bd09d",
   "outputs": [
    {
     "data": {
      "text/plain": [
       "(0, 2, 4)"
      ]
     },
     "execution_count": 27,
     "metadata": {},
     "output_type": "execute_result"
    }
   ],
   "execution_count": 27
  },
  {
   "metadata": {
    "ExecuteTime": {
     "end_time": "2025-03-05T13:37:36.815463Z",
     "start_time": "2025-03-05T13:37:36.810360Z"
    }
   },
   "cell_type": "code",
   "source": [
    "def data_iter1(data, batch_size):\n",
    "    for i in range(0, len(data), batch_size):\n",
    "        yield data[i : min(i + batch_size, len(data))]\n",
    "\n",
    "x = list(range(100))\n",
    "batch_size = 10\n",
    "for i in data_iter1(x, batch_size):\n",
    "    print(i)"
   ],
   "id": "26446923691289c1",
   "outputs": [
    {
     "name": "stdout",
     "output_type": "stream",
     "text": [
      "[0, 1, 2, 3, 4, 5, 6, 7, 8, 9]\n",
      "[10, 11, 12, 13, 14, 15, 16, 17, 18, 19]\n",
      "[20, 21, 22, 23, 24, 25, 26, 27, 28, 29]\n",
      "[30, 31, 32, 33, 34, 35, 36, 37, 38, 39]\n",
      "[40, 41, 42, 43, 44, 45, 46, 47, 48, 49]\n",
      "[50, 51, 52, 53, 54, 55, 56, 57, 58, 59]\n",
      "[60, 61, 62, 63, 64, 65, 66, 67, 68, 69]\n",
      "[70, 71, 72, 73, 74, 75, 76, 77, 78, 79]\n",
      "[80, 81, 82, 83, 84, 85, 86, 87, 88, 89]\n",
      "[90, 91, 92, 93, 94, 95, 96, 97, 98, 99]\n"
     ]
    }
   ],
   "execution_count": 28
  },
  {
   "metadata": {
    "ExecuteTime": {
     "end_time": "2025-03-05T13:37:36.847765Z",
     "start_time": "2025-03-05T13:37:36.840879Z"
    }
   },
   "cell_type": "code",
   "source": [
    "def data_iter2(data, batch_size):\n",
    "    for i in range(0, len(data), batch_size):\n",
    "        return data[i : min(i + batch_size, len(data))]\n",
    "\n",
    "x = list(range(100))\n",
    "batch_size = 10\n",
    "for i in data_iter2(x, batch_size):\n",
    "    print(i)"
   ],
   "id": "d04706bd95e20a4c",
   "outputs": [
    {
     "name": "stdout",
     "output_type": "stream",
     "text": [
      "0\n",
      "1\n",
      "2\n",
      "3\n",
      "4\n",
      "5\n",
      "6\n",
      "7\n",
      "8\n",
      "9\n"
     ]
    }
   ],
   "execution_count": 29
  },
  {
   "metadata": {
    "ExecuteTime": {
     "end_time": "2025-03-05T13:37:36.880861Z",
     "start_time": "2025-03-05T13:37:36.877086Z"
    }
   },
   "cell_type": "code",
   "source": [
    "print(\"\"\"会发现，我们的for循环能够自动的把生成器变成迭代器，如果我们直接使用data_iter，其实不会进行数据的提取\n",
    "这也正是我们for循环的原理，把生成器变成迭代器，其实，range函数生成的也是迭代器，list函数也有这样的功能\"\"\")\n",
    "x = range(100)\n",
    "x"
   ],
   "id": "395d1d623e9878b5",
   "outputs": [
    {
     "name": "stdout",
     "output_type": "stream",
     "text": [
      "会发现，我们的for循环能够自动的把生成器变成迭代器，如果我们直接使用data_iter，其实不会进行数据的提取\n",
      "这也正是我们for循环的原理，把生成器变成迭代器，其实，range函数生成的也是迭代器，list函数也有这样的功能\n"
     ]
    },
    {
     "data": {
      "text/plain": [
       "range(0, 100)"
      ]
     },
     "execution_count": 30,
     "metadata": {},
     "output_type": "execute_result"
    }
   ],
   "execution_count": 30
  },
  {
   "metadata": {
    "ExecuteTime": {
     "end_time": "2025-03-05T13:37:36.918619Z",
     "start_time": "2025-03-05T13:37:36.912948Z"
    }
   },
   "cell_type": "code",
   "source": [
    "\"\"\"我们也能在生成器中使用多个yield\"\"\"\n",
    "\"\"\"下面代码实现输出一个数的因数\"\"\"\n",
    "def foo(n):\n",
    "    k = 1\n",
    "    while k * k < n :\n",
    "        if n % k == 0:\n",
    "            yield k\n",
    "            yield n / k\n",
    "        k += 1\n",
    "        if k * k == n:\n",
    "            yield k\n",
    "\n",
    "for i in foo(100):\n",
    "    print(i)"
   ],
   "id": "a00794dd82087cba",
   "outputs": [
    {
     "name": "stdout",
     "output_type": "stream",
     "text": [
      "1\n",
      "100.0\n",
      "2\n",
      "50.0\n",
      "4\n",
      "25.0\n",
      "5\n",
      "20.0\n",
      "10\n"
     ]
    }
   ],
   "execution_count": 31
  },
  {
   "metadata": {},
   "cell_type": "markdown",
   "source": "解析语法，就是能运用for循环生成列表，生成器，字典，集合",
   "id": "de90ecfaa628b90f"
  },
  {
   "metadata": {
    "ExecuteTime": {
     "end_time": "2025-03-05T13:37:36.957185Z",
     "start_time": "2025-03-05T13:37:36.950457Z"
    }
   },
   "cell_type": "code",
   "source": [
    "l1 = [x **2 for x in range(10) if x % 2 == 0]\n",
    "s1 = {x ** 2 for x in range(10) if x % 2 == 0}\n",
    "t1 = (x ** 2 for x in range(10) if x % 2 == 0) #这里是生成器，不是元组\n",
    "d1 = {x : x ** 2 for x in range(10) if x % 2 == 0}\n",
    "l1, s1, d1, next(iter(t1)), next(iter(t1)), next(iter(t1)), next(iter(t1))"
   ],
   "id": "aecb04748cf16aef",
   "outputs": [
    {
     "data": {
      "text/plain": [
       "([0, 4, 16, 36, 64],\n",
       " {0, 4, 16, 36, 64},\n",
       " {0: 0, 2: 4, 4: 16, 6: 36, 8: 64},\n",
       " 0,\n",
       " 4,\n",
       " 16,\n",
       " 36)"
      ]
     },
     "execution_count": 32,
     "metadata": {},
     "output_type": "execute_result"
    }
   ],
   "execution_count": 32
  },
  {
   "metadata": {},
   "cell_type": "markdown",
   "source": "元组自动打包 解包",
   "id": "f1c3b024e822273e"
  },
  {
   "metadata": {
    "ExecuteTime": {
     "end_time": "2025-03-05T13:37:36.982058Z",
     "start_time": "2025-03-05T13:37:36.978083Z"
    }
   },
   "cell_type": "code",
   "source": [
    "data = 1, 2, 3, 4, 5, 6, 7, 8, 9, 10\n",
    "data #这里是打包"
   ],
   "id": "70a5d2d264bd524e",
   "outputs": [
    {
     "data": {
      "text/plain": [
       "(1, 2, 3, 4, 5, 6, 7, 8, 9, 10)"
      ]
     },
     "execution_count": 33,
     "metadata": {},
     "output_type": "execute_result"
    }
   ],
   "execution_count": 33
  },
  {
   "metadata": {
    "ExecuteTime": {
     "end_time": "2025-03-05T13:37:37.021733Z",
     "start_time": "2025-03-05T13:37:37.015233Z"
    }
   },
   "cell_type": "code",
   "source": [
    "a , b , c , d = range(7 , 11)\n",
    "a, b, c, d #这里是解包"
   ],
   "id": "b85f0397cf773996",
   "outputs": [
    {
     "data": {
      "text/plain": [
       "(7, 8, 9, 10)"
      ]
     },
     "execution_count": 34,
     "metadata": {},
     "output_type": "execute_result"
    }
   ],
   "execution_count": 34
  },
  {
   "metadata": {},
   "cell_type": "raw",
   "source": "这里说明一下，只要左边的元素个数等于右边的 ， 都可以用生成器去解决",
   "id": "d51783d82ea28b67"
  },
  {
   "metadata": {
    "ExecuteTime": {
     "end_time": "2025-03-05T13:37:37.047264Z",
     "start_time": "2025-03-05T13:37:37.042362Z"
    }
   },
   "cell_type": "code",
   "source": [
    "a , b = 3, 4\n",
    "b , a = a, b\n",
    "a, b"
   ],
   "id": "3c4f52a6ff882a66",
   "outputs": [
    {
     "data": {
      "text/plain": [
       "(4, 3)"
      ]
     },
     "execution_count": 35,
     "metadata": {},
     "output_type": "execute_result"
    }
   ],
   "execution_count": 35
  },
  {
   "metadata": {},
   "cell_type": "raw",
   "source": "发现什么，我们没有用另外一个变量，就能够交换我们的数字",
   "id": "4cb496964aa2be51"
  },
  {
   "metadata": {},
   "cell_type": "markdown",
   "source": "单下划线与双下划线",
   "id": "22b6c9d72bcd98d"
  },
  {
   "metadata": {
    "ExecuteTime": {
     "end_time": "2025-03-05T13:37:37.088971Z",
     "start_time": "2025-03-05T13:37:37.081698Z"
    }
   },
   "cell_type": "code",
   "source": "\"\"\"在python中，单下划线与双下划线是有特殊意义的\"\"\"",
   "id": "61f312deeada7e87",
   "outputs": [
    {
     "data": {
      "text/plain": [
       "'在python中，单下划线与双下划线是有特殊意义的'"
      ]
     },
     "execution_count": 36,
     "metadata": {},
     "output_type": "execute_result"
    }
   ],
   "execution_count": 36
  },
  {
   "metadata": {},
   "cell_type": "raw",
   "source": [
    "在类中，变量与方法前面前面有单下划线说明这个是一个内接口，最好不要使用\n",
    "    在模块的包前面有下划线说明这个是一个私有的函数，是不能被外界所引用的"
   ],
   "id": "93290348ec9ea09e"
  },
  {
   "metadata": {
    "ExecuteTime": {
     "end_time": "2025-03-05T13:37:37.118690Z",
     "start_time": "2025-03-05T13:37:37.115341Z"
    }
   },
   "cell_type": "code",
   "source": [
    "class Test:\n",
    "    def __init__(self):\n",
    "       self.foo = 11\n",
    "       self._bar = 23\n",
    "\n",
    "    def _foo1(self):\n",
    "        return 1\n",
    "\n",
    "t = Test()\n",
    "t._foo1(), t.foo, t._bar\n",
    "\n",
    "# 发现，我们的方法与变量还是成功的引用了"
   ],
   "id": "f158900782812c94",
   "outputs": [
    {
     "data": {
      "text/plain": [
       "(1, 11, 23)"
      ]
     },
     "execution_count": 37,
     "metadata": {},
     "output_type": "execute_result"
    }
   ],
   "execution_count": 37
  },
  {
   "metadata": {
    "ExecuteTime": {
     "end_time": "2025-03-05T13:37:37.157648Z",
     "start_time": "2025-03-05T13:37:37.145528Z"
    }
   },
   "cell_type": "code",
   "source": [
    "# 但是，如果我们写了一个模块，这个方法就不再实用\n",
    "from my_functon import *\n",
    "_foo(), foo() # 发现错误，说明有引用不了这个函数"
   ],
   "id": "45be3a54358aa2cb",
   "outputs": [
    {
     "ename": "NameError",
     "evalue": "name '_foo' is not defined",
     "output_type": "error",
     "traceback": [
      "\u001B[1;31m---------------------------------------------------------------------------\u001B[0m",
      "\u001B[1;31mNameError\u001B[0m                                 Traceback (most recent call last)",
      "Cell \u001B[1;32mIn[38], line 3\u001B[0m\n\u001B[0;32m      1\u001B[0m \u001B[38;5;66;03m# 但是，如果我们写了一个模块，这个方法就不再实用\u001B[39;00m\n\u001B[0;32m      2\u001B[0m \u001B[38;5;28;01mfrom\u001B[39;00m \u001B[38;5;21;01mmy_functon\u001B[39;00m \u001B[38;5;28;01mimport\u001B[39;00m \u001B[38;5;241m*\u001B[39m\n\u001B[1;32m----> 3\u001B[0m _foo(), foo()\n",
      "\u001B[1;31mNameError\u001B[0m: name '_foo' is not defined"
     ]
    }
   ],
   "execution_count": 38
  },
  {
   "metadata": {
    "ExecuteTime": {
     "end_time": "2025-03-05T13:37:45.906229Z",
     "start_time": "2025-03-05T13:37:45.899808Z"
    }
   },
   "cell_type": "code",
   "source": [
    "# 但是 ， 如果我们是全部常规引用呢\n",
    "import my_functon\n",
    "my_functon.foo(), my_functon._foo()\n",
    "# 发现还是可以，没有那么多的强调因素"
   ],
   "id": "cfea472fa2d49039",
   "outputs": [
    {
     "data": {
      "text/plain": [
       "(2, 1)"
      ]
     },
     "execution_count": 39,
     "metadata": {},
     "output_type": "execute_result"
    }
   ],
   "execution_count": 39
  },
  {
   "metadata": {},
   "cell_type": "raw",
   "source": "而双下划线，作用是阻止子类的更改",
   "id": "3e0041be4c3e45b4"
  },
  {
   "metadata": {
    "ExecuteTime": {
     "end_time": "2025-03-05T13:37:47.454758Z",
     "start_time": "2025-03-05T13:37:47.450896Z"
    }
   },
   "cell_type": "code",
   "source": [
    "class Test:\n",
    "   def __init__(self):\n",
    "       self.foo = 11\n",
    "       self._bar = 23\n",
    "       self.__baz = 23"
   ],
   "id": "9dc41cfbdfc021ab",
   "outputs": [],
   "execution_count": 40
  },
  {
   "metadata": {
    "ExecuteTime": {
     "end_time": "2025-03-05T13:37:49.027260Z",
     "start_time": "2025-03-05T13:37:49.021760Z"
    }
   },
   "cell_type": "code",
   "source": [
    "t = Test()\n",
    "dir(t)\n",
    "# 在最上面，能看到，__baz变成了_Text__baz，\n",
    "#"
   ],
   "id": "352af193a4dca517",
   "outputs": [
    {
     "data": {
      "text/plain": [
       "['_Test__baz',\n",
       " '__class__',\n",
       " '__delattr__',\n",
       " '__dict__',\n",
       " '__dir__',\n",
       " '__doc__',\n",
       " '__eq__',\n",
       " '__format__',\n",
       " '__ge__',\n",
       " '__getattribute__',\n",
       " '__getstate__',\n",
       " '__gt__',\n",
       " '__hash__',\n",
       " '__init__',\n",
       " '__init_subclass__',\n",
       " '__le__',\n",
       " '__lt__',\n",
       " '__module__',\n",
       " '__ne__',\n",
       " '__new__',\n",
       " '__reduce__',\n",
       " '__reduce_ex__',\n",
       " '__repr__',\n",
       " '__setattr__',\n",
       " '__sizeof__',\n",
       " '__str__',\n",
       " '__subclasshook__',\n",
       " '__weakref__',\n",
       " '_bar',\n",
       " 'foo']"
      ]
     },
     "execution_count": 41,
     "metadata": {},
     "output_type": "execute_result"
    }
   ],
   "execution_count": 41
  },
  {
   "metadata": {
    "ExecuteTime": {
     "end_time": "2025-03-05T13:37:50.950788Z",
     "start_time": "2025-03-05T13:37:50.943436Z"
    }
   },
   "cell_type": "code",
   "source": [
    "class ExtendedTest(Test):\n",
    "   def __init__(self):\n",
    "       super().__init__()\n",
    "       self.foo = 'overridden'\n",
    "       self._bar = 'overridden'\n",
    "       self.__baz = 'overridden'\n",
    "t2 = ExtendedTest()\n",
    "t2.foo, t2._bar\n",
    "\n",
    "# 前面的变量被更改了"
   ],
   "id": "2b5295b8ef2f69d9",
   "outputs": [
    {
     "data": {
      "text/plain": [
       "('overridden', 'overridden')"
      ]
     },
     "execution_count": 42,
     "metadata": {},
     "output_type": "execute_result"
    }
   ],
   "execution_count": 42
  },
  {
   "metadata": {
    "ExecuteTime": {
     "end_time": "2025-03-05T13:37:52.355698Z",
     "start_time": "2025-03-05T13:37:52.336496Z"
    }
   },
   "cell_type": "code",
   "source": [
    "t2.__baz\n",
    "# 这里却出现了错误"
   ],
   "id": "98c4833374e1af1f",
   "outputs": [
    {
     "ename": "AttributeError",
     "evalue": "'ExtendedTest' object has no attribute '__baz'",
     "output_type": "error",
     "traceback": [
      "\u001B[1;31m---------------------------------------------------------------------------\u001B[0m",
      "\u001B[1;31mAttributeError\u001B[0m                            Traceback (most recent call last)",
      "Cell \u001B[1;32mIn[43], line 1\u001B[0m\n\u001B[1;32m----> 1\u001B[0m t2\u001B[38;5;241m.\u001B[39m__baz\n",
      "\u001B[1;31mAttributeError\u001B[0m: 'ExtendedTest' object has no attribute '__baz'"
     ]
    }
   ],
   "execution_count": 43
  },
  {
   "metadata": {
    "ExecuteTime": {
     "end_time": "2025-03-05T13:37:53.989726Z",
     "start_time": "2025-03-05T13:37:53.986215Z"
    }
   },
   "cell_type": "code",
   "source": [
    "# 但是不是不能去引用\n",
    "t2._ExtendedTest__baz , t2._Test__baz"
   ],
   "id": "24302c634cebeb7a",
   "outputs": [
    {
     "data": {
      "text/plain": [
       "('overridden', 23)"
      ]
     },
     "execution_count": 44,
     "metadata": {},
     "output_type": "execute_result"
    }
   ],
   "execution_count": 44
  },
  {
   "metadata": {},
   "cell_type": "raw",
   "source": "还有其他形式，比如  val_",
   "id": "a83e755ba00bf81d"
  },
  {
   "metadata": {
    "ExecuteTime": {
     "end_time": "2025-03-05T13:37:55.794267Z",
     "start_time": "2025-03-05T13:37:55.789972Z"
    }
   },
   "cell_type": "code",
   "source": [
    "\"\"\"这种单后下划线的形式单纯是为了改名字，没有特殊点\"\"\"\n",
    "val = 5\n",
    "val_ = 5\n",
    "val, val_"
   ],
   "id": "b4ebc3f777e3c386",
   "outputs": [
    {
     "data": {
      "text/plain": [
       "(5, 5)"
      ]
     },
     "execution_count": 45,
     "metadata": {},
     "output_type": "execute_result"
    }
   ],
   "execution_count": 45
  },
  {
   "metadata": {},
   "cell_type": "raw",
   "source": "还有其他形式，前后双下划线，被称为魔术方法, 魔术方法不要求全部掌握，等写类的时候缺什么查什么就行了",
   "id": "563536c1d0e9a76a"
  },
  {
   "metadata": {
    "ExecuteTime": {
     "end_time": "2025-03-05T13:37:57.301858Z",
     "start_time": "2025-03-05T13:37:57.297944Z"
    }
   },
   "cell_type": "code",
   "source": [
    "\"\"\"比如\"\"\"\n",
    "class Library():\n",
    "    def __init__(self, books, location):\n",
    "        self.books = books\n",
    "        self.location = location\n",
    "\n",
    "    def __len__(self):\n",
    "        return len(self.books)   # 当len这个对象的时候返回书的数量，而不是其他东西\n",
    "\n",
    "    def __getitem__(self, idx):  # 这个能让类有一个切片的功能\n",
    "        return self.books[idx]\n",
    "\n",
    "    def __call__(self):  #这个能把对象当作函数\n",
    "        return self.location"
   ],
   "id": "5cf6bd484b6a54f6",
   "outputs": [],
   "execution_count": 46
  },
  {
   "metadata": {
    "ExecuteTime": {
     "end_time": "2025-03-05T13:37:58.715014Z",
     "start_time": "2025-03-05T13:37:58.710372Z"
    }
   },
   "cell_type": "code",
   "source": [
    "Library_1 = Library(['王源', '易烊千玺', '王俊凯'], '掏粪男孩')\n",
    "Library_2 = Library(['丁真', '珍珠'], '理塘')"
   ],
   "id": "9c4431e2142d8fec",
   "outputs": [],
   "execution_count": 47
  },
  {
   "metadata": {
    "ExecuteTime": {
     "end_time": "2025-03-05T13:38:00.015118Z",
     "start_time": "2025-03-05T13:38:00.009535Z"
    }
   },
   "cell_type": "code",
   "source": "len(Library_1), len(Library_2), Library_1[1], Library_2[0], Library_2(), Library_1()",
   "id": "5aac55d7d58eea2f",
   "outputs": [
    {
     "data": {
      "text/plain": [
       "(3, 2, '易烊千玺', '丁真', '理塘', '掏粪男孩')"
      ]
     },
     "execution_count": 48,
     "metadata": {},
     "output_type": "execute_result"
    }
   ],
   "execution_count": 48
  },
  {
   "metadata": {},
   "cell_type": "markdown",
   "source": "面向对象编程",
   "id": "1da4f757385b5c7b"
  },
  {
   "metadata": {},
   "cell_type": "raw",
   "source": "文档编写",
   "id": "1198df110d5a4f60"
  },
  {
   "metadata": {
    "ExecuteTime": {
     "end_time": "2025-03-05T14:41:00.524548Z",
     "start_time": "2025-03-05T14:41:00.514404Z"
    }
   },
   "cell_type": "code",
   "source": [
    "# 在编写类中，我们可以在类或者函数的下面写一个类似文档的东西\n",
    "class Student():\n",
    "    \"\"\"学校学生\"\"\"  # 这里一般写这个类是什么\n",
    "    def __init__(self, name, grade, id_number):\n",
    "        self._name = name\n",
    "        self.grade = grade\n",
    "        self.id_number = id_number\n",
    "\n",
    "    def name(self):\n",
    "        \"\"\"返回学生的姓名\"\"\"  #写输入什么，输出什么\n",
    "        return self._name\n",
    "\n",
    "def change(x):  # 函数例子\n",
    "    \"\"\"\n",
    "    将数字改为字符串\n",
    "    :param x: 输入的数字\n",
    "    :return: 数字的字符串\n",
    "    \"\"\"\n",
    "    return str(x)"
   ],
   "id": "532665107663aced",
   "outputs": [],
   "execution_count": 51
  },
  {
   "metadata": {},
   "cell_type": "code",
   "outputs": [],
   "execution_count": null,
   "source": "",
   "id": "1be59f6c422c788b"
  }
 ],
 "metadata": {
  "kernelspec": {
   "display_name": "Python 3",
   "language": "python",
   "name": "python3"
  },
  "language_info": {
   "codemirror_mode": {
    "name": "ipython",
    "version": 2
   },
   "file_extension": ".py",
   "mimetype": "text/x-python",
   "name": "python",
   "nbconvert_exporter": "python",
   "pygments_lexer": "ipython2",
   "version": "2.7.6"
  }
 },
 "nbformat": 4,
 "nbformat_minor": 5
}
