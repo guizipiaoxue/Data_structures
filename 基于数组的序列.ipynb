{
 "cells": [
  {
   "metadata": {},
   "cell_type": "markdown",
   "source": "本节讨论python中的序列类型",
   "id": "a7dc7279a9ff7bdb"
  },
  {
   "metadata": {
    "ExecuteTime": {
     "end_time": "2025-03-13T13:45:28.852606Z",
     "start_time": "2025-03-13T13:45:28.846232Z"
    }
   },
   "cell_type": "code",
   "source": [
    "# python中的序列有三种：列表类，元组类，字符串类\n",
    "# python默认使用的是unicode字符，一个字符占据2个字节\n",
    "# 询问序列的时间我们认为是O(1)"
   ],
   "id": "7be561c69ba5c189",
   "outputs": [],
   "execution_count": 1
  },
  {
   "metadata": {
    "ExecuteTime": {
     "end_time": "2025-03-13T13:50:04.785311Z",
     "start_time": "2025-03-13T13:50:04.779954Z"
    }
   },
   "cell_type": "code",
   "source": [
    "# 引用数组\n",
    "patients = ['jojo', 'dio', 'killer_queen']\n",
    "# 这个列表中，每个数组储存的是每个字符串类的地址\n",
    "# 类似于：\n",
    "patient = [['j', 'o', 'j', '0'], [], []]\n",
    "# 当然可以写一个实例"
   ],
   "id": "160199a8fed7174e",
   "outputs": [],
   "execution_count": 3
  },
  {
   "metadata": {},
   "cell_type": "code",
   "outputs": [],
   "execution_count": null,
   "source": "# https://blog.csdn.net/as480133937/article/details/87305247 关于浅拷贝和深拷贝，按住ctrl键可以直接到达",
   "id": "3604a007185d1d3a"
  },
  {
   "metadata": {},
   "cell_type": "markdown",
   "source": "紧凑数组",
   "id": "97b5d2cb25a74d6e"
  },
  {
   "metadata": {
    "ExecuteTime": {
     "end_time": "2025-03-14T07:05:52.682608Z",
     "start_time": "2025-03-14T07:05:52.678484Z"
    }
   },
   "cell_type": "code",
   "source": [
    "import sys\n",
    "sys.getsizeof([1]), sys.getsizeof([])\n",
    "# 一个列表占据56字节，每添加一个指针则多8字节"
   ],
   "id": "7fabd90677265a39",
   "outputs": [
    {
     "data": {
      "text/plain": [
       "(64, 56)"
      ]
     },
     "execution_count": 21,
     "metadata": {},
     "output_type": "execute_result"
    }
   ],
   "execution_count": 21
  },
  {
   "metadata": {
    "ExecuteTime": {
     "end_time": "2025-03-14T07:15:11.452370Z",
     "start_time": "2025-03-14T07:15:11.448121Z"
    }
   },
   "cell_type": "code",
   "source": [
    "a = 1\n",
    "sys.getsizeof(a), sys.getsizeof(id(a)), hex(id(a))\n",
    "# 发现，一个整数变量占据28字节，如果产生一个指针，便又花费32字节"
   ],
   "id": "eadb9bd7c5846904",
   "outputs": [
    {
     "data": {
      "text/plain": [
       "(28, 32, '0x7ff9f17a29b8')"
      ]
     },
     "execution_count": 38,
     "metadata": {},
     "output_type": "execute_result"
    }
   ],
   "execution_count": 38
  },
  {
   "metadata": {
    "ExecuteTime": {
     "end_time": "2025-03-14T07:18:44.746573Z",
     "start_time": "2025-03-14T07:18:44.739038Z"
    }
   },
   "cell_type": "code",
   "source": [
    "l2 = [a]\n",
    "sys.getsizeof(l2), sys.getsizeof(id(l2[0])) , hex(id(l2)), hex(id(a))\n",
    "# 如果我们还是使用列表来储存数据，占据了28 + 64 + 32的内存,远远扩张内存占据"
   ],
   "id": "c140d0d5d591af78",
   "outputs": [
    {
     "data": {
      "text/plain": [
       "(64, 32, '0x24de921a140', '0x7ff9f17a29b8')"
      ]
     },
     "execution_count": 43,
     "metadata": {},
     "output_type": "execute_result"
    }
   ],
   "execution_count": 43
  },
  {
   "metadata": {},
   "cell_type": "code",
   "outputs": [],
   "execution_count": null,
   "source": "# https://blog.csdn.net/qq_43657442/article/details/108431857 看这个更能理解",
   "id": "1551e56a0a578cbb"
  },
  {
   "metadata": {
    "ExecuteTime": {
     "end_time": "2025-03-14T07:27:17.251393Z",
     "start_time": "2025-03-14T07:27:17.243375Z"
    }
   },
   "cell_type": "code",
   "source": [
    "# 为了减小内存占据，我们使用数组来储存数据\n",
    "from array import array\n",
    "prims = array('i', [1, 2, 3])\n",
    "prims # 其中每个数据只占有2字节"
   ],
   "id": "1c22015fb4f3c4c",
   "outputs": [
    {
     "data": {
      "text/plain": [
       "array('i', [1, 2, 3])"
      ]
     },
     "execution_count": 49,
     "metadata": {},
     "output_type": "execute_result"
    }
   ],
   "execution_count": 49
  },
  {
   "metadata": {},
   "cell_type": "code",
   "outputs": [],
   "execution_count": null,
   "source": "# https://www.cainiaojc.com/python/python-array.html 数组文章，当然一般不建议使用这个，计算包中都有类似的计算数组",
   "id": "ca613b460ae7f859"
  },
  {
   "metadata": {},
   "cell_type": "markdown",
   "source": "动态数组和摊销",
   "id": "4c143a59712fba6d"
  },
  {
   "metadata": {
    "ExecuteTime": {
     "end_time": "2025-03-14T07:58:13.968109Z",
     "start_time": "2025-03-14T07:58:13.953796Z"
    }
   },
   "cell_type": "code",
   "source": [
    "# 在python列表当中，我们是动态的申请内存的\n",
    "import sys\n",
    "data = []\n",
    "for i in range(20):\n",
    "    a = len(data)\n",
    "    b = sys.getsizeof(data)\n",
    "    print('length: {0:3d}; size: {1:3d}'.format(a, b))\n",
    "    data.append(None)"
   ],
   "id": "4db1d12839c8c479",
   "outputs": [
    {
     "name": "stdout",
     "output_type": "stream",
     "text": [
      "length:   0; size:  56\n",
      "length:   1; size:  88\n",
      "length:   2; size:  88\n",
      "length:   3; size:  88\n",
      "length:   4; size:  88\n",
      "length:   5; size: 120\n",
      "length:   6; size: 120\n",
      "length:   7; size: 120\n",
      "length:   8; size: 120\n",
      "length:   9; size: 184\n",
      "length:  10; size: 184\n",
      "length:  11; size: 184\n",
      "length:  12; size: 184\n",
      "length:  13; size: 184\n",
      "length:  14; size: 184\n",
      "length:  15; size: 184\n",
      "length:  16; size: 184\n",
      "length:  17; size: 248\n",
      "length:  18; size: 248\n",
      "length:  19; size: 248\n"
     ]
    }
   ],
   "execution_count": 56
  },
  {
   "metadata": {
    "ExecuteTime": {
     "end_time": "2025-03-14T07:58:11.832257Z",
     "start_time": "2025-03-14T07:58:11.828488Z"
    }
   },
   "cell_type": "code",
   "source": [
    "# 发现内存不是随着元素的增加而增加\n",
    "# list是预先准备好多余的内存，方便你去添加删减元素，等内存不够了再去申请多的内存\n",
    "# 原因是python是用c语言写出来的"
   ],
   "id": "601c4af0e7cacbf4",
   "outputs": [],
   "execution_count": 55
  },
  {
   "metadata": {},
   "cell_type": "markdown",
   "source": "实现动态数组",
   "id": "d891d85d7ab44e51"
  },
  {
   "metadata": {
    "ExecuteTime": {
     "end_time": "2025-03-14T07:57:58.018614Z",
     "start_time": "2025-03-14T07:57:58.003625Z"
    }
   },
   "cell_type": "code",
   "source": [
    "import ctypes\n",
    "\n",
    "class DynamicArray:\n",
    "    \"\"\"实现动态数组的编写，类似list\"\"\"\n",
    "    def __init__(self):\n",
    "        \"\"\"创建一个空数组\"\"\"\n",
    "        self._n = 0\n",
    "        self._capacity = 1\n",
    "        self._A = self._make_array(self._capacity)\n",
    "\n",
    "    def __len__(self):\n",
    "        \"\"\"返回数组中的元素个数\"\"\"\n",
    "        return self._n\n",
    "\n",
    "    def __getitem__(self, k):\n",
    "        \"\"\"实现访问功能\"\"\"\n",
    "        if k < 0 or k >= self._n:\n",
    "            raise IndexError('index out of range')\n",
    "        return self._A[k]\n",
    "\n",
    "    def append(self, obj):\n",
    "        \"\"\"在数组末尾添加元素\"\"\"\n",
    "        if self._n == self._capacity:\n",
    "            self._resize(2 * self._capacity)\n",
    "        self._A[self._n] = obj\n",
    "        self._n += 1\n",
    "\n",
    "    def _resize(self, capacity):\n",
    "        \"\"\"扩增数组\"\"\"\n",
    "        B = self._make_array(capacity)\n",
    "        for i in range(self._n):\n",
    "            B[i] = self._A[i]\n",
    "        self._A = B\n",
    "        self_capacity = capacity\n",
    "\n",
    "    def _make_array(self, capacity):\n",
    "        \"\"\"返回新的数组\"\"\"\n",
    "        return (capacity * ctypes.py_object)() # 返回python的对象\n",
    "\n",
    "# 这里实现一个动态的数组编程\n",
    "# ctypes不需要了解，知道是什么就行了\n",
    "# https://zhuanlan.zhihu.com/p/18591487058\n",
    "# 在上述认知之下，其实python的底层代码实现还是运用的c语言\n",
    "# 所以，对列表进行插入，排序，增添，其实是最占据时间的步骤"
   ],
   "id": "74b2539349230c85",
   "outputs": [],
   "execution_count": 53
  },
  {
   "metadata": {},
   "cell_type": "markdown",
   "source": "总结",
   "id": "b9686c7c27a94a91"
  },
  {
   "metadata": {},
   "cell_type": "code",
   "outputs": [],
   "execution_count": null,
   "source": [
    "# 本节主要讲述内存分布以及列表原理以及数组实操\n",
    "# 练手 ：凯撒密码\n",
    "# 把英文字母用后n位的字母替代，例如A->D, B->E,\n",
    "# 编写一个类，不要求动态分布内存，实现编码以及解码的功能"
   ],
   "id": "66dc1cd907e80ea6"
  },
  {
   "metadata": {
    "ExecuteTime": {
     "end_time": "2025-03-14T12:18:01.016878Z",
     "start_time": "2025-03-14T12:18:01.009907Z"
    }
   },
   "cell_type": "code",
   "source": [
    "class CaesarCode:\n",
    "    \"\"\"凯撒密码\"\"\"\n",
    "    def __init__(self, shift):\n",
    "        \"\"\"创建编码表\"\"\"\n",
    "        encoder = [None] * 26\n",
    "        decoder = [None] * 26\n",
    "        for i in range(26):\n",
    "            encoder[i] = chr(ord('a') + (i + shift) % 26)       # ord函数返回是在unicode的编码\n",
    "            decoder[i] = chr(ord('a') + (i - shift) % 26)\n",
    "\n",
    "        self._forward = ''.join(encoder)\n",
    "        self._backward = ''.join(decoder)\n",
    "\n",
    "    def encode(self, text):\n",
    "        \"\"\"给问文本加密\"\"\"\n",
    "        return self._transform(text, self._forward)\n",
    "\n",
    "    def decode(self, text):\n",
    "        \"\"\"给文本解码\"\"\"\n",
    "        return self._transform(text, self._backward)\n",
    "\n",
    "    def _transform(self, text, transform):\n",
    "        l = len(text)\n",
    "        code = list(text)\n",
    "        for i in range(l):\n",
    "            code[i] = transform[ord(text[i]) - ord('a')]\n",
    "        return ''.join(code)\n",
    "\n",
    "if __name__ == '__main__':\n",
    "    meg = CaesarCode(1)\n",
    "    code = meg.encode('hello')\n",
    "    print(code)\n",
    "    answer = meg.decode(code)\n",
    "    print(answer)\n",
    "\n",
    "# 当然有很大的瑕疵，比如大写字母的问题\n",
    "# 或者能跟进一步输入密文再次加密然后解码"
   ],
   "id": "edf4f9e89b7d53f9",
   "outputs": [
    {
     "name": "stdout",
     "output_type": "stream",
     "text": [
      "ifmmp\n",
      "hello\n"
     ]
    }
   ],
   "execution_count": 63
  }
 ],
 "metadata": {
  "kernelspec": {
   "display_name": "Python 3",
   "language": "python",
   "name": "python3"
  },
  "language_info": {
   "codemirror_mode": {
    "name": "ipython",
    "version": 2
   },
   "file_extension": ".py",
   "mimetype": "text/x-python",
   "name": "python",
   "nbconvert_exporter": "python",
   "pygments_lexer": "ipython2",
   "version": "2.7.6"
  }
 },
 "nbformat": 4,
 "nbformat_minor": 5
}
