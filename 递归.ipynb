{
 "cells": [
  {
   "metadata": {},
   "cell_type": "markdown",
   "source": "递归只依靠重复迭代实现",
   "id": "4128a966cc50ec4b"
  },
  {
   "metadata": {
    "ExecuteTime": {
     "end_time": "2025-03-07T12:19:12.947149Z",
     "start_time": "2025-03-07T12:19:12.942933Z"
    }
   },
   "cell_type": "code",
   "source": [
    "import time\n",
    "\n",
    "# 例一 ：阶乘函数\n",
    "def factorial(n):\n",
    "    if n == 0:\n",
    "        return 1\n",
    "    else:\n",
    "        return n * factorial(n-1)\n",
    "factorial(5)\n",
    "# 用的时间为一次函数，n"
   ],
   "id": "3726f0f07d4e8115",
   "outputs": [
    {
     "data": {
      "text/plain": [
       "120"
      ]
     },
     "execution_count": 10,
     "metadata": {},
     "output_type": "execute_result"
    }
   ],
   "execution_count": 10
  },
  {
   "metadata": {
    "ExecuteTime": {
     "end_time": "2025-03-07T12:47:51.285541Z",
     "start_time": "2025-03-07T12:47:51.280725Z"
    }
   },
   "cell_type": "code",
   "source": [
    "# 例二 ：绘制英式标尺\n",
    "# 1lin = 2.54cm\n",
    "def draw_the_line(n, label = None):\n",
    "    \"\"\"画刻度线\"\"\"\n",
    "    line = '-' * n\n",
    "    if label:\n",
    "        line += label\n",
    "    print(line)\n",
    "\n",
    "def draw_interval(center_length):\n",
    "    \"\"\"递归画中间线\"\"\"\n",
    "    if center_length > 0:\n",
    "        draw_interval(center_length - 1)\n",
    "        draw_the_line(center_length)\n",
    "        draw_interval(center_length - 1)\n",
    "\n",
    "def draw_the_ruler(num_inches, major_length):\n",
    "    \"\"\"画出尺子刻度\"\"\"\n",
    "    draw_the_line(major_length, '0')\n",
    "    for i in range(1, num_inches):\n",
    "        draw_interval(major_length - 1)\n",
    "        draw_the_line(major_length, str(i))\n",
    "\n",
    "draw_the_ruler(3, 3)"
   ],
   "id": "9356d23bcba9cb0e",
   "outputs": [
    {
     "name": "stdout",
     "output_type": "stream",
     "text": [
      "---0\n",
      "-\n",
      "--\n",
      "-\n",
      "---1\n",
      "-\n",
      "--\n",
      "-\n",
      "---2\n"
     ]
    }
   ],
   "execution_count": 16
  },
  {
   "metadata": {
    "ExecuteTime": {
     "end_time": "2025-03-07T13:03:30.068342Z",
     "start_time": "2025-03-07T13:03:30.063937Z"
    }
   },
   "cell_type": "code",
   "source": [
    "# 例三 ：二分查找\n",
    "def binary_search(data, target, left, right):\n",
    "    \"\"\"递归进行二分查找\"\"\"\n",
    "    if left > right:\n",
    "        return False\n",
    "    mid = (left + right) // 2\n",
    "    if data[mid] == target:\n",
    "        return mid + 1\n",
    "    elif data[mid] > target:\n",
    "        binary_search(data, target, left, mid - 1)\n",
    "    else:\n",
    "        binary_search(data, target, mid + 1, right)\n",
    "data = [1, 2, 3, 5, 6, 7, 8, 9]\n",
    "index = binary_search(data, 5, 0, len(data) - 1)\n",
    "\n",
    "index"
   ],
   "id": "1ce3bc775f51092f",
   "outputs": [
    {
     "data": {
      "text/plain": [
       "4"
      ]
     },
     "execution_count": 30,
     "metadata": {},
     "output_type": "execute_result"
    }
   ],
   "execution_count": 30
  }
 ],
 "metadata": {
  "kernelspec": {
   "display_name": "Python 3",
   "language": "python",
   "name": "python3"
  },
  "language_info": {
   "codemirror_mode": {
    "name": "ipython",
    "version": 2
   },
   "file_extension": ".py",
   "mimetype": "text/x-python",
   "name": "python",
   "nbconvert_exporter": "python",
   "pygments_lexer": "ipython2",
   "version": "2.7.6"
  }
 },
 "nbformat": 4,
 "nbformat_minor": 5
}
