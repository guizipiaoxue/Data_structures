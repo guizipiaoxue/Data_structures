{
 "cells": [
  {
   "metadata": {},
   "cell_type": "markdown",
   "source": "# 栈，队列与双端队列",
   "id": "331d518a413cad5a"
  },
  {
   "metadata": {},
   "cell_type": "markdown",
   "source": "## 栈",
   "id": "50a0b3393370e0e3"
  },
  {
   "metadata": {},
   "cell_type": "markdown",
   "source": [
    "> 栈就是一种只允许在表尾进行插入和删除操作的线性表\n",
    "> 例如网站列表，你能后按返回返回到前面一个网站，再比如说是文本编译器中提供的撤销机制，但是，他们都只能说是在前面和后面进行你的操作"
   ],
   "id": "cfe780351c42afef"
  },
  {
   "metadata": {},
   "cell_type": "markdown",
   "source": "#### 一个栈要实现以下功能",
   "id": "bfc995ea7f72eb19"
  },
  {
   "metadata": {},
   "cell_type": "markdown",
   "source": [
    "> 1. 在最上面添加元素 push\n",
    "> 2. 在栈的最上面删去并返回一个元素 pop\n",
    "> 3. 在不删除最上面元素的情况下得到它 top\n",
    "> 4. 判断栈堆是否是空 is_empty\n",
    "> 5. 返回栈中元素个数 len\n"
   ],
   "id": "3f5f332b6cc121b7"
  },
  {
   "metadata": {
    "ExecuteTime": {
     "end_time": "2025-03-16T12:46:36.412104Z",
     "start_time": "2025-03-16T12:46:36.394416Z"
    }
   },
   "cell_type": "code",
   "source": [
    "# 在python中我们使用列表来实现这些功能\n",
    "\n",
    "class ArrayStack:  # 这样命名强调，栈是基于数组的基础之上的数据结构\n",
    "    \"\"\"数据类型，栈\"\"\"\n",
    "\n",
    "    def __init__(self):\n",
    "        \"\"\"创造一个列表\"\"\"\n",
    "        self.data = []\n",
    "\n",
    "    def __len__(self):\n",
    "        \"\"\"返回列表的长度\"\"\"\n",
    "        return len(self.data)\n",
    "\n",
    "    def is_empty(self):\n",
    "        \"\"\"判断列表是否为空\"\"\"\n",
    "        return self.data == []\n",
    "\n",
    "    def push(self, e):\n",
    "        \"\"\"在列表的最顶端添加元素\"\"\"\n",
    "        self.data.append(e)\n",
    "\n",
    "    def top(self):\n",
    "        \"\"\"返回最上端的元素\"\"\"\n",
    "        if self.is_empty():\n",
    "            raise IndexError(\"stack is empty\")\n",
    "        return self.data[-1]\n",
    "\n",
    "    def pop(self):\n",
    "        \"\"\"删去并返回最上端的元素\"\"\"\n",
    "        if self.is_empty():\n",
    "            raise IndexError(\"stack is empty\")  # 这里进行异常捕获\n",
    "        return self.data.pop()   # 元素是被删去了的"
   ],
   "id": "543045a8c4931bf2",
   "outputs": [],
   "execution_count": 1
  },
  {
   "metadata": {},
   "cell_type": "markdown",
   "source": "#### 栈可以实现逆序过程",
   "id": "103050b607dde48e"
  },
  {
   "metadata": {
    "ExecuteTime": {
     "end_time": "2025-03-16T13:50:23.717905Z",
     "start_time": "2025-03-16T13:50:23.704884Z"
    }
   },
   "cell_type": "code",
   "source": [
    "# 下面是一个可以把文本逆序输出的程序\n",
    "\n",
    "def reverse_txt(filename):\n",
    "    \"\"\"将文件中的文本倒叙\"\"\"\n",
    "    S = ArrayStack()\n",
    "    origin = open(filename, encoding=\"utf-8\") # 这里要是报错可以试试其他的编码，比如gbk\n",
    "    for line in origin:\n",
    "        S.push(line.strip('\\n'))\n",
    "        print(line)\n",
    "    origin.close()\n",
    "\n",
    "    output = open(filename, 'w', encoding=\"utf-8\")\n",
    "    while not S.is_empty():\n",
    "        output.write(S.pop() + '\\n')\n",
    "    print(output)\n",
    "    output.close()\n",
    "\n",
    "reverse_txt('data/how_old.txt')\n"
   ],
   "id": "801b763d47072b7d",
   "outputs": [
    {
     "name": "stdout",
     "output_type": "stream",
     "text": [
      "你今年多少岁啦\n",
      "\n",
      "今年十八岁~~~\n",
      "\n",
      "多少岁？\n",
      "\n",
      "今年十八岁~~~~\n",
      "\n",
      "<_io.TextIOWrapper name='data/how_old.txt' mode='w' encoding='utf-8'>\n"
     ]
    }
   ],
   "execution_count": 11
  },
  {
   "metadata": {
    "ExecuteTime": {
     "end_time": "2025-03-16T14:01:38.648257Z",
     "start_time": "2025-03-16T14:01:38.639750Z"
    }
   },
   "cell_type": "code",
   "source": [
    "# 合理的运用栈，能准确保存你要的数据或者判断数据，精确的说是暂存你的数据\n",
    "# 例：计算器中识别括号的功能\n",
    "def is_matched(expr):\n",
    "    \"\"\"判断这个运算符是否符合计算顺序\"\"\"\n",
    "    left = '([{'\n",
    "    right = ')]}'\n",
    "    S = ArrayStack()\n",
    "    for c in expr:\n",
    "        if c in left:\n",
    "            S.push(c)\n",
    "        elif c in right:\n",
    "            if S.is_empty():\n",
    "                return False\n",
    "            if right.index(c) != left.index(S.pop()):\n",
    "                return False\n",
    "    return True\n",
    "expr1 = ')[]{()}'\n",
    "expr2 = '[({}])'\n",
    "expr3 = '[{}]'\n",
    "print(is_matched(expr1))\n",
    "print(is_matched(expr2))\n",
    "print(is_matched(expr3))"
   ],
   "id": "ee855a2002832b8",
   "outputs": [
    {
     "name": "stdout",
     "output_type": "stream",
     "text": [
      "False\n",
      "False\n",
      "True\n"
     ]
    }
   ],
   "execution_count": 16
  },
  {
   "metadata": {},
   "cell_type": "markdown",
   "source": "思考？这里有运用递归的必要吗",
   "id": "13a193a949fc6597"
  },
  {
   "metadata": {},
   "cell_type": "raw",
   "source": "个人认为没有这个必要，使用递归的时间函数O（n）与循环的O（n）是一样的",
   "id": "e2d75814c9e688f4"
  },
  {
   "metadata": {},
   "cell_type": "markdown",
   "source": [
    "####  **总结一下的栈的特点**\n",
    "> 1. 先入后出，后入先出\n",
    "> 2. 除了首尾节点之外，每个元素都有前继，也有后驱\n",
    "> 3. 在HTML上有大量的体现"
   ],
   "id": "93a5f704271670a9"
  },
  {
   "metadata": {},
   "cell_type": "markdown",
   "source": "## 队列",
   "id": "285e839eb3535e88"
  },
  {
   "metadata": {},
   "cell_type": "code",
   "outputs": [],
   "execution_count": null,
   "source": "",
   "id": "3daba0ae72efc942"
  }
 ],
 "metadata": {
  "kernelspec": {
   "display_name": "Python 3",
   "language": "python",
   "name": "python3"
  },
  "language_info": {
   "codemirror_mode": {
    "name": "ipython",
    "version": 2
   },
   "file_extension": ".py",
   "mimetype": "text/x-python",
   "name": "python",
   "nbconvert_exporter": "python",
   "pygments_lexer": "ipython2",
   "version": "2.7.6"
  }
 },
 "nbformat": 4,
 "nbformat_minor": 5
}
