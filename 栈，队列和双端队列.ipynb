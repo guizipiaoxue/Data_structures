{
 "cells": [
  {
   "metadata": {},
   "cell_type": "markdown",
   "source": "# 栈，队列与双端队列",
   "id": "331d518a413cad5a"
  },
  {
   "metadata": {},
   "cell_type": "markdown",
   "source": "## 栈",
   "id": "50a0b3393370e0e3"
  },
  {
   "metadata": {},
   "cell_type": "markdown",
   "source": [
    "> 栈就是一种只允许在表尾进行插入和删除操作的线性表\n",
    "> 例如网站列表，你能后按返回返回到前面一个网站，再比如说是文本编译器中提供的撤销机制，但是，他们都只能说是在前面和后面进行你的操作"
   ],
   "id": "cfe780351c42afef"
  },
  {
   "metadata": {},
   "cell_type": "markdown",
   "source": "#### 一个栈要实现以下功能",
   "id": "bfc995ea7f72eb19"
  },
  {
   "metadata": {},
   "cell_type": "markdown",
   "source": [
    "> 1. 在最上面添加元素 push\n",
    "> 2. 在栈的最上面删去并返回一个元素 pop\n",
    "> 3. 在不删除最上面元素的情况下得到它 top\n",
    "> 4. 判断栈堆是否是空 is_empty\n",
    "> 5. 返回栈中元素个数 len\n"
   ],
   "id": "3f5f332b6cc121b7"
  },
  {
   "metadata": {
    "ExecuteTime": {
     "end_time": "2025-03-16T12:46:36.412104Z",
     "start_time": "2025-03-16T12:46:36.394416Z"
    }
   },
   "cell_type": "code",
   "source": [
    "# 在python中我们使用列表来实现这些功能\n",
    "\n",
    "class ArrayStack:  # 这样命名强调，栈是基于数组的基础之上的数据结构\n",
    "    \"\"\"数据类型，栈\"\"\"\n",
    "\n",
    "    def __init__(self):\n",
    "        \"\"\"创造一个列表\"\"\"\n",
    "        self.data = []\n",
    "\n",
    "    def __len__(self):\n",
    "        \"\"\"返回列表的长度\"\"\"\n",
    "        return len(self.data)\n",
    "\n",
    "    def is_empty(self):\n",
    "        \"\"\"判断列表是否为空\"\"\"\n",
    "        return self.data == []\n",
    "\n",
    "    def push(self, e):\n",
    "        \"\"\"在列表的最顶端添加元素\"\"\"\n",
    "        self.data.append(e)\n",
    "\n",
    "    def top(self):\n",
    "        \"\"\"返回最上端的元素\"\"\"\n",
    "        if self.is_empty():\n",
    "            raise IndexError(\"stack is empty\")\n",
    "        return self.data[-1]\n",
    "\n",
    "    def pop(self):\n",
    "        \"\"\"删去并返回最上端的元素\"\"\"\n",
    "        if self.is_empty():\n",
    "            raise IndexError(\"stack is empty\")  # 这里进行异常捕获\n",
    "        return self.data.pop()   # 元素是被删去了的"
   ],
   "id": "543045a8c4931bf2",
   "outputs": [],
   "execution_count": 1
  },
  {
   "metadata": {},
   "cell_type": "markdown",
   "source": "#### 栈可以实现逆序过程",
   "id": "103050b607dde48e"
  },
  {
   "metadata": {
    "ExecuteTime": {
     "end_time": "2025-03-16T13:50:23.717905Z",
     "start_time": "2025-03-16T13:50:23.704884Z"
    }
   },
   "cell_type": "code",
   "source": [
    "# 下面是一个可以把文本逆序输出的程序\n",
    "\n",
    "def reverse_txt(filename):\n",
    "    \"\"\"将文件中的文本倒叙\"\"\"\n",
    "    S = ArrayStack()\n",
    "    origin = open(filename, encoding=\"utf-8\") # 这里要是报错可以试试其他的编码，比如gbk\n",
    "    for line in origin:\n",
    "        S.push(line.strip('\\n'))\n",
    "        print(line)\n",
    "    origin.close()\n",
    "\n",
    "    output = open(filename, 'w', encoding=\"utf-8\")\n",
    "    while not S.is_empty():\n",
    "        output.write(S.pop() + '\\n')\n",
    "    print(output)\n",
    "    output.close()\n",
    "\n",
    "reverse_txt('data/how_old.txt')\n"
   ],
   "id": "801b763d47072b7d",
   "outputs": [
    {
     "name": "stdout",
     "output_type": "stream",
     "text": [
      "你今年多少岁啦\n",
      "\n",
      "今年十八岁~~~\n",
      "\n",
      "多少岁？\n",
      "\n",
      "今年十八岁~~~~\n",
      "\n",
      "<_io.TextIOWrapper name='data/how_old.txt' mode='w' encoding='utf-8'>\n"
     ]
    }
   ],
   "execution_count": 11
  },
  {
   "metadata": {
    "ExecuteTime": {
     "end_time": "2025-03-16T14:01:38.648257Z",
     "start_time": "2025-03-16T14:01:38.639750Z"
    }
   },
   "cell_type": "code",
   "source": [
    "# 合理的运用栈，能准确保存你要的数据或者判断数据，精确的说是暂存你的数据\n",
    "# 例：计算器中识别括号的功能\n",
    "def is_matched(expr):\n",
    "    \"\"\"判断这个运算符是否符合计算顺序\"\"\"\n",
    "    left = '([{'\n",
    "    right = ')]}'\n",
    "    S = ArrayStack()\n",
    "    for c in expr:\n",
    "        if c in left:\n",
    "            S.push(c)\n",
    "        elif c in right:\n",
    "            if S.is_empty():\n",
    "                return False\n",
    "            if right.index(c) != left.index(S.pop()):\n",
    "                return False\n",
    "    return True\n",
    "expr1 = ')[]{()}'\n",
    "expr2 = '[({}])'\n",
    "expr3 = '[{}]'\n",
    "print(is_matched(expr1))\n",
    "print(is_matched(expr2))\n",
    "print(is_matched(expr3))"
   ],
   "id": "ee855a2002832b8",
   "outputs": [
    {
     "name": "stdout",
     "output_type": "stream",
     "text": [
      "False\n",
      "False\n",
      "True\n"
     ]
    }
   ],
   "execution_count": 16
  },
  {
   "metadata": {},
   "cell_type": "markdown",
   "source": "思考？这里有运用递归的必要吗",
   "id": "13a193a949fc6597"
  },
  {
   "metadata": {},
   "cell_type": "raw",
   "source": "个人认为没有这个必要，使用递归的时间函数O（n）与循环的O（n）是一样的",
   "id": "e2d75814c9e688f4"
  },
  {
   "metadata": {},
   "cell_type": "markdown",
   "source": [
    "####  **总结一下的栈的特点**\n",
    "> 1. 先入后出，后入先出\n",
    "> 2. 除了首尾节点之外，每个元素都有前继，也有后驱\n",
    "> 3. 在HTML上有大量的体现"
   ],
   "id": "93a5f704271670a9"
  },
  {
   "metadata": {},
   "cell_type": "markdown",
   "source": "## 队列",
   "id": "285e839eb3535e88"
  },
  {
   "metadata": {},
   "cell_type": "markdown",
   "source": "> 队列（queue）是只允许在一端进行插入操作，在另一端进行删除操作的线性表，简称“队”。队列是一种先进先出（First In First Out）的线性表，简称FIFO。允许插入的一端称为队尾（rear），允许删除的一端称为队头(front)。向队列中插入新的数据元素称为入队，新入队的元素就成为了队列的队尾元素。从队列中删除队头元素称为出队，其后继元素成为新的队头元素。。",
   "id": "83d8c6eb3ec6d356"
  },
  {
   "metadata": {},
   "cell_type": "markdown",
   "source": "#### 一个队列要实现以下功能",
   "id": "a6fbcbce59e5bad5"
  },
  {
   "metadata": {},
   "cell_type": "markdown",
   "source": [
    "> 1. 在队列的末尾添加元素\n",
    "> 2. 从队列移除并返回第一个元素\n",
    "> 3. 在不移除第一个元素的情况下获取第一个元素\n",
    "> 4. 判断队列是否为空\n",
    "> 5. 返回元素个数"
   ],
   "id": "e7f06340b3cb4458"
  },
  {
   "metadata": {},
   "cell_type": "markdown",
   "source": "###### **队列与栈不同的地方在于。队列是先进后出，为了节省空间的申请。我们可以循环使用队列的空间**",
   "id": "56fd422673cf214a"
  },
  {
   "metadata": {
    "ExecuteTime": {
     "end_time": "2025-03-18T14:49:04.589016Z",
     "start_time": "2025-03-18T14:49:04.582036Z"
    }
   },
   "cell_type": "code",
   "source": [
    "# 在python中任然使用列表实现相关的功能\n",
    "\n",
    "class ArrayQueue:\n",
    "    \"\"\"用列表实现队列\"\"\"\n",
    "    DEFAULT_CAPACITY = 10\n",
    "\n",
    "    def __init__(self):\n",
    "        self._data = [None] * ArrayQueue.DEFAULT_CAPACITY\n",
    "        self._size = 0\n",
    "        self._front = 0  # 注意这里变量前面的下划线，说明是封装起来的变量\n",
    "\n",
    "    def __len__(self):\n",
    "        \"\"\"返回队列的长度\"\"\"\n",
    "        return self._size\n",
    "\n",
    "    def is_empty(self):\n",
    "        \"\"\"判断这个列表是不是空集\"\"\"\n",
    "        if self._size:\n",
    "            return False\n",
    "        return True\n",
    "\n",
    "    def first(self):\n",
    "        \"\"\"\n",
    "        获取但是不删去第一个元素\n",
    "        :return: 第一个元素\n",
    "        \"\"\"\n",
    "        if self.is_empty():\n",
    "            raise IndexError(\"queue is empty\")\n",
    "        return self._data[self._front]\n",
    "\n",
    "    def dequeue(self):\n",
    "        \"\"\"\n",
    "        删去并获取第一个元素\n",
    "        :return: 第一个元素\n",
    "        \"\"\"\n",
    "        if self.is_empty():\n",
    "            raise IndexError(\"queue is empty\")\n",
    "        data = self._data[self._front]\n",
    "        self._data[self._front] = None\n",
    "        self._front = (self._front + 1) % len(self._data) # 这里的取余很巧妙的从头开始\n",
    "        self._size -= 1\n",
    "        return data\n",
    "\n",
    "    def enqueue(self, e):\n",
    "        \"\"\"在队列的最后一位添加元素\"\"\"\n",
    "        if self._size == len(self._data):\n",
    "            self.resize(len(self._data) * 2)\n",
    "        avail = ( self._front + self._size ) % len(self._data)\n",
    "        self._data[avail] = e\n",
    "        self._size += 1\n",
    "\n",
    "    def resize(self, capacity):\n",
    "        \"\"\"把队列改变容量大小\"\"\"\n",
    "        old = self._data\n",
    "        self._data = [None] * capacity\n",
    "        walk = self._front\n",
    "        for i in range(capacity):\n",
    "            self._data[i] = old[walk]   # self._front 一直是一个指针一样的参量\n",
    "            walk = (walk + 1) % len(old) # 这里把指针变成0，所以我们的要设置这个walk这个量\n",
    "        self._front = 0\n"
   ],
   "id": "b2997a1175d2e842",
   "outputs": [],
   "execution_count": 1
  },
  {
   "metadata": {},
   "cell_type": "markdown",
   "source": "## 双端队列",
   "id": "e55c7fab48a35604"
  },
  {
   "metadata": {},
   "cell_type": "markdown",
   "source": "> 双端队列（deque） 是一种特殊的队列数据结构，它允许在队列的两端进行插入和删除操作。与普通队列不同，普通队列只能在队尾添加元素，在队首删除元素，而双端队列可以在队首和队尾同时进行这些操作",
   "id": "cc19f12ee41af4b4"
  },
  {
   "metadata": {},
   "cell_type": "markdown",
   "source": "#### 相对于队列要实现的功能",
   "id": "b4f57e18c76bf93e"
  },
  {
   "metadata": {},
   "cell_type": "markdown",
   "source": [
    "> 1. 能删除并获取获取队尾的元素\n",
    "> 2. 能在队尾增加元素\n",
    "> 3. 能在不删除最后一个元素的前提下得到队尾的元素"
   ],
   "id": "657bf03735234257"
  },
  {
   "metadata": {},
   "cell_type": "code",
   "outputs": [],
   "execution_count": null,
   "source": [
    "# 只需要在队列的基础上稍微改写一点\n",
    "\n",
    "class ArrayDeQueue:\n",
    "    \"\"\"用列表实现队列\"\"\"\n",
    "    DEFAULT_CAPACITY = 10\n",
    "\n",
    "    def __init__(self):\n",
    "        self._data = [None] * ArrayDeQueue.DEFAULT_CAPACITY\n",
    "        self._size = 0\n",
    "        self._front = 0\n",
    "        self._last = 0\n",
    "\n",
    "    def __len__(self):\n",
    "        \"\"\"返回队列的长度\"\"\"\n",
    "        return self._size\n",
    "\n",
    "    def is_empty(self):\n",
    "        \"\"\"判断这个列表是不是空集\"\"\"\n",
    "        if self._size:\n",
    "            return False\n",
    "        return True\n",
    "\n",
    "    def first(self):\n",
    "        \"\"\"\n",
    "        获取但是不删去第一个元素\n",
    "        :return: 第一个元素\n",
    "        \"\"\"\n",
    "        if self.is_empty():\n",
    "            raise IndexError(\"queue is empty\")\n",
    "        return self._data[self._front]\n",
    "\n",
    "    def last(self):\n",
    "        \"\"\"\n",
    "        获取但不删去最后一个元素\n",
    "        :return: 最后一个元素\n",
    "        \"\"\"\n",
    "        if self.is_empty():\n",
    "            raise IndexError(\"queue is empty\")\n",
    "        return self._data[self._last]\n",
    "\n",
    "    def de_first(self):\n",
    "        \"\"\"\n",
    "        删去并获取第一个元素\n",
    "        :return: 第一个元素\n",
    "        \"\"\"\n",
    "        if self.is_empty():\n",
    "            raise IndexError(\"queue is empty\")\n",
    "        data = self._data[self._front]\n",
    "        self._data[self._front] = None\n",
    "        self._front = (self._front + 1) % len(self._data) # 这里的取余很巧妙的从头开始\n",
    "        self._size -= 1\n",
    "        return data\n",
    "\n",
    "    def de_last(self):\n",
    "        \"\"\"\n",
    "        获取并删去最后一个元素\n",
    "        :return: 最后一个元素\n",
    "        \"\"\"\n",
    "        if self.is_empty():\n",
    "            raise IndexError(\"queue is empty\")\n",
    "        data = self._data[self._last]\n",
    "        self._data[self._last] = None\n",
    "        self._last = (self._last - 1) % len(self._data)\n",
    "        self._size -= 1\n",
    "        return data\n",
    "\n",
    "    def en_last(self, e):\n",
    "        \"\"\"在队列的最后一位添加元素\"\"\"\n",
    "        if self._size == len(self._data):\n",
    "            self.resize(len(self._data) * 2)\n",
    "        avail = ( self._front + self._size ) % len(self._data)\n",
    "        self._data[avail] = e\n",
    "        self._size += 1\n",
    "\n",
    "    def en_first(self, e):\n",
    "        \"\"\"在队列的开头添加元素\"\"\"\n",
    "        if self._size == len(self._data):\n",
    "            self.resize(len(self._data) * 2)\n",
    "        avail = (self._last - self._size) % len(self._data)\n",
    "        self._data[avail] = e\n",
    "        self._size += 1\n",
    "\n",
    "    def resize(self, capacity):\n",
    "        \"\"\"把队列改变容量大小\"\"\"\n",
    "        old = self._data\n",
    "        self._data = [None] * capacity\n",
    "        walk = self._front\n",
    "        for i in range(capacity):\n",
    "            self._data[i] = old[walk]   # self._front 一直是一个指针一样的参量\n",
    "            walk = (walk + 1) % len(old) # 这里把指针变成0，所以我们的要设置这个walk这个量\n",
    "        self._front = 0\n"
   ],
   "id": "b0485d253ac5f564"
  },
  {
   "metadata": {},
   "cell_type": "markdown",
   "source": "#### **总结一下队列的特点与功能**",
   "id": "75bea125d42dfaa5"
  },
  {
   "metadata": {},
   "cell_type": "markdown",
   "source": "> 栈（Stack）和队列（Queue）是两种基本的数据结构，它们在数据的存储和访问方式上有着本质的不同。栈是一种后进先出（LIFO, Last In First Out）的结构，而队列是一种先进先出（FIFO, First In First Out）的结构。",
   "id": "9a655f64f1ea2509"
  },
  {
   "metadata": {},
   "cell_type": "markdown",
   "source": "> 队列是一种先进先出（FIFO）的数据结构，可以通过链表或数组实现。队列的基本操作包括创建队列、判空操作、入队操作和出队操作。队列常用于处理需要按照先后顺序进行操作的场景，例如消息队列、任务调度和广度优先搜索等。",
   "id": "b4e4c018860064a"
  }
 ],
 "metadata": {
  "kernelspec": {
   "display_name": "Python 3",
   "language": "python",
   "name": "python3"
  },
  "language_info": {
   "codemirror_mode": {
    "name": "ipython",
    "version": 2
   },
   "file_extension": ".py",
   "mimetype": "text/x-python",
   "name": "python",
   "nbconvert_exporter": "python",
   "pygments_lexer": "ipython2",
   "version": "2.7.6"
  }
 },
 "nbformat": 4,
 "nbformat_minor": 5
}
